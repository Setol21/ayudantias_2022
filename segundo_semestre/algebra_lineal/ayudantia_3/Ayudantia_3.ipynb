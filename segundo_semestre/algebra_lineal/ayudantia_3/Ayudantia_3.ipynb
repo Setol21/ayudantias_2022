{
 "cells": [
  {
   "cell_type": "code",
   "execution_count": 2,
   "metadata": {},
   "outputs": [],
   "source": [
    "from sympy import *"
   ]
  },
  {
   "cell_type": "markdown",
   "metadata": {},
   "source": [
    "## 3 (para chequear)"
   ]
  },
  {
   "cell_type": "code",
   "execution_count": 4,
   "metadata": {},
   "outputs": [
    {
     "data": {
      "text/latex": [
       "$\\displaystyle \\left[\\begin{matrix}0 & 0.333333333333333 & 0 & 0.111111111111111\\\\-3.0 & 6.0 & -9.0 & 20.0\\\\0 & 0 & 0 & 0.333333333333333\\\\0 & 0 & -3.0 & 6.0\\end{matrix}\\right]$"
      ],
      "text/plain": [
       "Matrix([\n",
       "[   0, 0.333333333333333,    0, 0.111111111111111],\n",
       "[-3.0,               6.0, -9.0,              20.0],\n",
       "[   0,                 0,    0, 0.333333333333333],\n",
       "[   0,                 0, -3.0,               6.0]])"
      ]
     },
     "execution_count": 4,
     "metadata": {},
     "output_type": "execute_result"
    }
   ],
   "source": [
    "A = Matrix([[6, -1/3, 0, 1],\n",
    "            [3, 0, -1, 0],\n",
    "            [0, 0, 6, -1/3],\n",
    "            [0, 0, 3, 0]])\n",
    "\n",
    "A.inv()"
   ]
  },
  {
   "cell_type": "markdown",
   "metadata": {},
   "source": [
    "## 4"
   ]
  },
  {
   "cell_type": "code",
   "execution_count": 6,
   "metadata": {},
   "outputs": [
    {
     "data": {
      "text/latex": [
       "$\\displaystyle \\left[\\begin{matrix}0 & 4 & 4 & 2 & 1 & 1 & 2\\\\4 & 0 & 3 & 6 & 1 & 5 & 1\\\\4 & 3 & 0 & 1 & 5 & 1 & 6\\\\2 & 6 & 1 & 0 & 5 & 0 & 7\\\\1 & 1 & 5 & 5 & 0 & 3 & 0\\\\1 & 5 & 1 & 0 & 3 & 0 & 5\\\\2 & 1 & 6 & 7 & 0 & 5 & 0\\end{matrix}\\right]$"
      ],
      "text/plain": [
       "Matrix([\n",
       "[0, 4, 4, 2, 1, 1, 2],\n",
       "[4, 0, 3, 6, 1, 5, 1],\n",
       "[4, 3, 0, 1, 5, 1, 6],\n",
       "[2, 6, 1, 0, 5, 0, 7],\n",
       "[1, 1, 5, 5, 0, 3, 0],\n",
       "[1, 5, 1, 0, 3, 0, 5],\n",
       "[2, 1, 6, 7, 0, 5, 0]])"
      ]
     },
     "execution_count": 6,
     "metadata": {},
     "output_type": "execute_result"
    }
   ],
   "source": [
    "M = Matrix([[0, 1, 1, 0, 0, 0, 0],\n",
    "            [1, 0, 0, 1, 0, 1, 0],\n",
    "            [1, 0, 0, 0, 1, 0, 1],\n",
    "            [0, 1, 0, 0, 1, 0, 1],\n",
    "            [0, 0, 1, 1, 0, 0, 0],\n",
    "            [0, 1, 0, 0, 0, 0, 1],\n",
    "            [0, 0, 1, 1, 0, 1, 0]])\n",
    "M**3"
   ]
  },
  {
   "cell_type": "markdown",
   "metadata": {},
   "source": [
    "Con esto queda evidenciado que existen sólamente dos rutas entre A y D que tengan dos escalas entre medio.\n",
    "\n",
    "Al observar el grafo, se deducen las siguientes:\n",
    "\n",
    "A - C - G - D: Costo de $1000  \n",
    "A - C - E - D: Costo de $1050\n",
    "\n",
    "Por ende, el camino más económico entre A y D con dos escalas es el A - C - G - D."
   ]
  }
 ],
 "metadata": {
  "kernelspec": {
   "display_name": "Python 3.9.13 ('venv': venv)",
   "language": "python",
   "name": "python3"
  },
  "language_info": {
   "codemirror_mode": {
    "name": "ipython",
    "version": 3
   },
   "file_extension": ".py",
   "mimetype": "text/x-python",
   "name": "python",
   "nbconvert_exporter": "python",
   "pygments_lexer": "ipython3",
   "version": "3.9.13"
  },
  "orig_nbformat": 4,
  "vscode": {
   "interpreter": {
    "hash": "488e3c0797ab4e6b229a7924d076977b029fe4aeb1e5843b334207e0f9bc691a"
   }
  }
 },
 "nbformat": 4,
 "nbformat_minor": 2
}
