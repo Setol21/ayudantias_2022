{
  "nbformat": 4,
  "nbformat_minor": 0,
  "metadata": {
    "colab": {
      "name": "Ayudantia 2.ipynb",
      "provenance": []
    },
    "kernelspec": {
      "name": "python3",
      "display_name": "Python 3"
    },
    "language_info": {
      "name": "python"
    }
  },
  "cells": [
    {
      "cell_type": "markdown",
      "source": [
        "# 5."
      ],
      "metadata": {
        "id": "9S4SUd0Rh-rg"
      }
    },
    {
      "cell_type": "code",
      "source": [
        "from sympy import *\n",
        "init_printing(use_unicode=True)"
      ],
      "metadata": {
        "id": "29Whgn6te_ae"
      },
      "execution_count": null,
      "outputs": []
    },
    {
      "cell_type": "code",
      "source": [
        "Tiendas = Matrix([[800,1090,250,590],[750,1050,350,500]])\n",
        "\n",
        "Tiendas"
      ],
      "metadata": {
        "colab": {
          "base_uri": "https://localhost:8080/",
          "height": 58
        },
        "id": "_xVGCHmWfF-v",
        "outputId": "a64a35d8-216e-45b6-8a5c-9177a3aa56a1"
      },
      "execution_count": null,
      "outputs": [
        {
          "output_type": "execute_result",
          "data": {
            "text/plain": [
              "⎡800  1090  250  590⎤\n",
              "⎢                   ⎥\n",
              "⎣750  1050  350  500⎦"
            ],
            "text/latex": "$\\displaystyle \\left[\\begin{matrix}800 & 1090 & 250 & 590\\\\750 & 1050 & 350 & 500\\end{matrix}\\right]$"
          },
          "metadata": {},
          "execution_count": 9
        }
      ]
    },
    {
      "cell_type": "code",
      "source": [
        "Cantidades = Matrix([250,500,420,820])\n",
        "Cantidades"
      ],
      "metadata": {
        "colab": {
          "base_uri": "https://localhost:8080/",
          "height": 98
        },
        "id": "ormGAbRmhLji",
        "outputId": "dfbfaea9-02b6-4253-b403-a08c03a0b04e"
      },
      "execution_count": null,
      "outputs": [
        {
          "output_type": "execute_result",
          "data": {
            "text/plain": [
              "⎡250⎤\n",
              "⎢   ⎥\n",
              "⎢500⎥\n",
              "⎢   ⎥\n",
              "⎢420⎥\n",
              "⎢   ⎥\n",
              "⎣820⎦"
            ],
            "text/latex": "$\\displaystyle \\left[\\begin{matrix}250\\\\500\\\\420\\\\820\\end{matrix}\\right]$"
          },
          "metadata": {},
          "execution_count": 10
        }
      ]
    },
    {
      "cell_type": "code",
      "source": [
        "Tiendas*Cantidades"
      ],
      "metadata": {
        "colab": {
          "base_uri": "https://localhost:8080/",
          "height": 58
        },
        "id": "42JLLgFShPk7",
        "outputId": "15191db1-6262-41d8-c630-1e9e50215b74"
      },
      "execution_count": null,
      "outputs": [
        {
          "output_type": "execute_result",
          "data": {
            "text/plain": [
              "⎡1333800⎤\n",
              "⎢       ⎥\n",
              "⎣1269500⎦"
            ],
            "text/latex": "$\\displaystyle \\left[\\begin{matrix}1333800\\\\1269500\\end{matrix}\\right]$"
          },
          "metadata": {},
          "execution_count": 11
        }
      ]
    },
    {
      "cell_type": "markdown",
      "source": [
        "# 6."
      ],
      "metadata": {
        "id": "dBkgt4nzhk2N"
      }
    },
    {
      "cell_type": "code",
      "source": [
        "A = Matrix([[2,2,3],[2,1,3],[-1,-1,0]])\n",
        "\n",
        "A"
      ],
      "metadata": {
        "colab": {
          "base_uri": "https://localhost:8080/",
          "height": 78
        },
        "id": "dRAri2-phd1f",
        "outputId": "01eb7047-fea0-43f1-f82b-b1711140d718"
      },
      "execution_count": null,
      "outputs": [
        {
          "output_type": "execute_result",
          "data": {
            "text/plain": [
              "⎡2   2   3⎤\n",
              "⎢         ⎥\n",
              "⎢2   1   3⎥\n",
              "⎢         ⎥\n",
              "⎣-1  -1  0⎦"
            ],
            "text/latex": "$\\displaystyle \\left[\\begin{matrix}2 & 2 & 3\\\\2 & 1 & 3\\\\-1 & -1 & 0\\end{matrix}\\right]$"
          },
          "metadata": {},
          "execution_count": 13
        }
      ]
    },
    {
      "cell_type": "code",
      "source": [
        "B = Matrix([[7,2,0],[5,1,-3],[2,4,1]])\n",
        "\n",
        "B"
      ],
      "metadata": {
        "colab": {
          "base_uri": "https://localhost:8080/",
          "height": 78
        },
        "id": "55ab36_HhoSd",
        "outputId": "43026389-1679-486d-e3b1-8c821becda09"
      },
      "execution_count": null,
      "outputs": [
        {
          "output_type": "execute_result",
          "data": {
            "text/plain": [
              "⎡7  2  0 ⎤\n",
              "⎢        ⎥\n",
              "⎢5  1  -3⎥\n",
              "⎢        ⎥\n",
              "⎣2  4  1 ⎦"
            ],
            "text/latex": "$\\displaystyle \\left[\\begin{matrix}7 & 2 & 0\\\\5 & 1 & -3\\\\2 & 4 & 1\\end{matrix}\\right]$"
          },
          "metadata": {},
          "execution_count": 15
        }
      ]
    },
    {
      "cell_type": "code",
      "source": [
        "(B*B + A.T)"
      ],
      "metadata": {
        "colab": {
          "base_uri": "https://localhost:8080/",
          "height": 78
        },
        "id": "hlh5S73ahxl-",
        "outputId": "409b9a46-fa3a-44fa-ae41-6bca0c195547"
      },
      "execution_count": null,
      "outputs": [
        {
          "output_type": "execute_result",
          "data": {
            "text/plain": [
              "⎡61  18  -7 ⎤\n",
              "⎢           ⎥\n",
              "⎢36  0   -7 ⎥\n",
              "⎢           ⎥\n",
              "⎣39  15  -11⎦"
            ],
            "text/latex": "$\\displaystyle \\left[\\begin{matrix}61 & 18 & -7\\\\36 & 0 & -7\\\\39 & 15 & -11\\end{matrix}\\right]$"
          },
          "metadata": {},
          "execution_count": 19
        }
      ]
    }
  ]
}